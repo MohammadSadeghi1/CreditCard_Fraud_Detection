{
 "cells": [
  {
   "cell_type": "markdown",
   "id": "444d7130",
   "metadata": {},
   "source": [
    "# Credit Card Fraud Detection"
   ]
  },
  {
   "cell_type": "code",
   "execution_count": 1,
   "id": "d185b16f",
   "metadata": {},
   "outputs": [],
   "source": [
    "import pandas as pd\n",
    "import numpy as np\n",
    "import matplotlib.pyplot as plt\n",
    "import seaborn as sns\n",
    "import warnings\n",
    "warnings.filterwarnings('ignore')"
   ]
  },
  {
   "cell_type": "markdown",
   "id": "6bb6dc8d",
   "metadata": {},
   "source": [
    "## Data Preprocessing "
   ]
  },
  {
   "cell_type": "markdown",
   "id": "b6e738ad",
   "metadata": {},
   "source": [
    "Data can be found at https://www.kaggle.com/datasets/mlg-ulb/creditcardfraud"
   ]
  },
  {
   "cell_type": "code",
   "execution_count": 2,
   "id": "9b17f129",
   "metadata": {},
   "outputs": [
    {
     "data": {
      "text/html": [
       "<div>\n",
       "<style scoped>\n",
       "    .dataframe tbody tr th:only-of-type {\n",
       "        vertical-align: middle;\n",
       "    }\n",
       "\n",
       "    .dataframe tbody tr th {\n",
       "        vertical-align: top;\n",
       "    }\n",
       "\n",
       "    .dataframe thead th {\n",
       "        text-align: right;\n",
       "    }\n",
       "</style>\n",
       "<table border=\"1\" class=\"dataframe\">\n",
       "  <thead>\n",
       "    <tr style=\"text-align: right;\">\n",
       "      <th></th>\n",
       "      <th>Time</th>\n",
       "      <th>V1</th>\n",
       "      <th>V2</th>\n",
       "      <th>V3</th>\n",
       "      <th>V4</th>\n",
       "      <th>V5</th>\n",
       "      <th>V6</th>\n",
       "      <th>V7</th>\n",
       "      <th>V8</th>\n",
       "      <th>V9</th>\n",
       "      <th>...</th>\n",
       "      <th>V21</th>\n",
       "      <th>V22</th>\n",
       "      <th>V23</th>\n",
       "      <th>V24</th>\n",
       "      <th>V25</th>\n",
       "      <th>V26</th>\n",
       "      <th>V27</th>\n",
       "      <th>V28</th>\n",
       "      <th>Amount</th>\n",
       "      <th>Class</th>\n",
       "    </tr>\n",
       "  </thead>\n",
       "  <tbody>\n",
       "    <tr>\n",
       "      <th>0</th>\n",
       "      <td>0.0</td>\n",
       "      <td>-1.359807</td>\n",
       "      <td>-0.072781</td>\n",
       "      <td>2.536347</td>\n",
       "      <td>1.378155</td>\n",
       "      <td>-0.338321</td>\n",
       "      <td>0.462388</td>\n",
       "      <td>0.239599</td>\n",
       "      <td>0.098698</td>\n",
       "      <td>0.363787</td>\n",
       "      <td>...</td>\n",
       "      <td>-0.018307</td>\n",
       "      <td>0.277838</td>\n",
       "      <td>-0.110474</td>\n",
       "      <td>0.066928</td>\n",
       "      <td>0.128539</td>\n",
       "      <td>-0.189115</td>\n",
       "      <td>0.133558</td>\n",
       "      <td>-0.021053</td>\n",
       "      <td>149.62</td>\n",
       "      <td>0</td>\n",
       "    </tr>\n",
       "    <tr>\n",
       "      <th>1</th>\n",
       "      <td>0.0</td>\n",
       "      <td>1.191857</td>\n",
       "      <td>0.266151</td>\n",
       "      <td>0.166480</td>\n",
       "      <td>0.448154</td>\n",
       "      <td>0.060018</td>\n",
       "      <td>-0.082361</td>\n",
       "      <td>-0.078803</td>\n",
       "      <td>0.085102</td>\n",
       "      <td>-0.255425</td>\n",
       "      <td>...</td>\n",
       "      <td>-0.225775</td>\n",
       "      <td>-0.638672</td>\n",
       "      <td>0.101288</td>\n",
       "      <td>-0.339846</td>\n",
       "      <td>0.167170</td>\n",
       "      <td>0.125895</td>\n",
       "      <td>-0.008983</td>\n",
       "      <td>0.014724</td>\n",
       "      <td>2.69</td>\n",
       "      <td>0</td>\n",
       "    </tr>\n",
       "    <tr>\n",
       "      <th>2</th>\n",
       "      <td>1.0</td>\n",
       "      <td>-1.358354</td>\n",
       "      <td>-1.340163</td>\n",
       "      <td>1.773209</td>\n",
       "      <td>0.379780</td>\n",
       "      <td>-0.503198</td>\n",
       "      <td>1.800499</td>\n",
       "      <td>0.791461</td>\n",
       "      <td>0.247676</td>\n",
       "      <td>-1.514654</td>\n",
       "      <td>...</td>\n",
       "      <td>0.247998</td>\n",
       "      <td>0.771679</td>\n",
       "      <td>0.909412</td>\n",
       "      <td>-0.689281</td>\n",
       "      <td>-0.327642</td>\n",
       "      <td>-0.139097</td>\n",
       "      <td>-0.055353</td>\n",
       "      <td>-0.059752</td>\n",
       "      <td>378.66</td>\n",
       "      <td>0</td>\n",
       "    </tr>\n",
       "    <tr>\n",
       "      <th>3</th>\n",
       "      <td>1.0</td>\n",
       "      <td>-0.966272</td>\n",
       "      <td>-0.185226</td>\n",
       "      <td>1.792993</td>\n",
       "      <td>-0.863291</td>\n",
       "      <td>-0.010309</td>\n",
       "      <td>1.247203</td>\n",
       "      <td>0.237609</td>\n",
       "      <td>0.377436</td>\n",
       "      <td>-1.387024</td>\n",
       "      <td>...</td>\n",
       "      <td>-0.108300</td>\n",
       "      <td>0.005274</td>\n",
       "      <td>-0.190321</td>\n",
       "      <td>-1.175575</td>\n",
       "      <td>0.647376</td>\n",
       "      <td>-0.221929</td>\n",
       "      <td>0.062723</td>\n",
       "      <td>0.061458</td>\n",
       "      <td>123.50</td>\n",
       "      <td>0</td>\n",
       "    </tr>\n",
       "    <tr>\n",
       "      <th>4</th>\n",
       "      <td>2.0</td>\n",
       "      <td>-1.158233</td>\n",
       "      <td>0.877737</td>\n",
       "      <td>1.548718</td>\n",
       "      <td>0.403034</td>\n",
       "      <td>-0.407193</td>\n",
       "      <td>0.095921</td>\n",
       "      <td>0.592941</td>\n",
       "      <td>-0.270533</td>\n",
       "      <td>0.817739</td>\n",
       "      <td>...</td>\n",
       "      <td>-0.009431</td>\n",
       "      <td>0.798278</td>\n",
       "      <td>-0.137458</td>\n",
       "      <td>0.141267</td>\n",
       "      <td>-0.206010</td>\n",
       "      <td>0.502292</td>\n",
       "      <td>0.219422</td>\n",
       "      <td>0.215153</td>\n",
       "      <td>69.99</td>\n",
       "      <td>0</td>\n",
       "    </tr>\n",
       "  </tbody>\n",
       "</table>\n",
       "<p>5 rows × 31 columns</p>\n",
       "</div>"
      ],
      "text/plain": [
       "   Time        V1        V2        V3        V4        V5        V6        V7  \\\n",
       "0   0.0 -1.359807 -0.072781  2.536347  1.378155 -0.338321  0.462388  0.239599   \n",
       "1   0.0  1.191857  0.266151  0.166480  0.448154  0.060018 -0.082361 -0.078803   \n",
       "2   1.0 -1.358354 -1.340163  1.773209  0.379780 -0.503198  1.800499  0.791461   \n",
       "3   1.0 -0.966272 -0.185226  1.792993 -0.863291 -0.010309  1.247203  0.237609   \n",
       "4   2.0 -1.158233  0.877737  1.548718  0.403034 -0.407193  0.095921  0.592941   \n",
       "\n",
       "         V8        V9  ...       V21       V22       V23       V24       V25  \\\n",
       "0  0.098698  0.363787  ... -0.018307  0.277838 -0.110474  0.066928  0.128539   \n",
       "1  0.085102 -0.255425  ... -0.225775 -0.638672  0.101288 -0.339846  0.167170   \n",
       "2  0.247676 -1.514654  ...  0.247998  0.771679  0.909412 -0.689281 -0.327642   \n",
       "3  0.377436 -1.387024  ... -0.108300  0.005274 -0.190321 -1.175575  0.647376   \n",
       "4 -0.270533  0.817739  ... -0.009431  0.798278 -0.137458  0.141267 -0.206010   \n",
       "\n",
       "        V26       V27       V28  Amount  Class  \n",
       "0 -0.189115  0.133558 -0.021053  149.62      0  \n",
       "1  0.125895 -0.008983  0.014724    2.69      0  \n",
       "2 -0.139097 -0.055353 -0.059752  378.66      0  \n",
       "3 -0.221929  0.062723  0.061458  123.50      0  \n",
       "4  0.502292  0.219422  0.215153   69.99      0  \n",
       "\n",
       "[5 rows x 31 columns]"
      ]
     },
     "execution_count": 2,
     "metadata": {},
     "output_type": "execute_result"
    }
   ],
   "source": [
    "df = pd.read_csv('creditcard.csv')\n",
    "df.head()"
   ]
  },
  {
   "cell_type": "code",
   "execution_count": 3,
   "id": "f4db9df7",
   "metadata": {},
   "outputs": [
    {
     "name": "stdout",
     "output_type": "stream",
     "text": [
      "<class 'pandas.core.frame.DataFrame'>\n",
      "RangeIndex: 284807 entries, 0 to 284806\n",
      "Data columns (total 31 columns):\n",
      " #   Column  Non-Null Count   Dtype  \n",
      "---  ------  --------------   -----  \n",
      " 0   Time    284807 non-null  float64\n",
      " 1   V1      284807 non-null  float64\n",
      " 2   V2      284807 non-null  float64\n",
      " 3   V3      284807 non-null  float64\n",
      " 4   V4      284807 non-null  float64\n",
      " 5   V5      284807 non-null  float64\n",
      " 6   V6      284807 non-null  float64\n",
      " 7   V7      284807 non-null  float64\n",
      " 8   V8      284807 non-null  float64\n",
      " 9   V9      284807 non-null  float64\n",
      " 10  V10     284807 non-null  float64\n",
      " 11  V11     284807 non-null  float64\n",
      " 12  V12     284807 non-null  float64\n",
      " 13  V13     284807 non-null  float64\n",
      " 14  V14     284807 non-null  float64\n",
      " 15  V15     284807 non-null  float64\n",
      " 16  V16     284807 non-null  float64\n",
      " 17  V17     284807 non-null  float64\n",
      " 18  V18     284807 non-null  float64\n",
      " 19  V19     284807 non-null  float64\n",
      " 20  V20     284807 non-null  float64\n",
      " 21  V21     284807 non-null  float64\n",
      " 22  V22     284807 non-null  float64\n",
      " 23  V23     284807 non-null  float64\n",
      " 24  V24     284807 non-null  float64\n",
      " 25  V25     284807 non-null  float64\n",
      " 26  V26     284807 non-null  float64\n",
      " 27  V27     284807 non-null  float64\n",
      " 28  V28     284807 non-null  float64\n",
      " 29  Amount  284807 non-null  float64\n",
      " 30  Class   284807 non-null  int64  \n",
      "dtypes: float64(30), int64(1)\n",
      "memory usage: 67.4 MB\n"
     ]
    }
   ],
   "source": [
    "df.info()"
   ]
  },
  {
   "cell_type": "code",
   "execution_count": 4,
   "id": "6568876f",
   "metadata": {},
   "outputs": [
    {
     "data": {
      "text/html": [
       "<div>\n",
       "<style scoped>\n",
       "    .dataframe tbody tr th:only-of-type {\n",
       "        vertical-align: middle;\n",
       "    }\n",
       "\n",
       "    .dataframe tbody tr th {\n",
       "        vertical-align: top;\n",
       "    }\n",
       "\n",
       "    .dataframe thead th {\n",
       "        text-align: right;\n",
       "    }\n",
       "</style>\n",
       "<table border=\"1\" class=\"dataframe\">\n",
       "  <thead>\n",
       "    <tr style=\"text-align: right;\">\n",
       "      <th></th>\n",
       "      <th>Time</th>\n",
       "      <th>V1</th>\n",
       "      <th>V2</th>\n",
       "      <th>V3</th>\n",
       "      <th>V4</th>\n",
       "      <th>V5</th>\n",
       "      <th>V6</th>\n",
       "      <th>V7</th>\n",
       "      <th>V8</th>\n",
       "      <th>V9</th>\n",
       "      <th>...</th>\n",
       "      <th>V21</th>\n",
       "      <th>V22</th>\n",
       "      <th>V23</th>\n",
       "      <th>V24</th>\n",
       "      <th>V25</th>\n",
       "      <th>V26</th>\n",
       "      <th>V27</th>\n",
       "      <th>V28</th>\n",
       "      <th>Amount</th>\n",
       "      <th>Class</th>\n",
       "    </tr>\n",
       "  </thead>\n",
       "  <tbody>\n",
       "    <tr>\n",
       "      <th>count</th>\n",
       "      <td>284807.000000</td>\n",
       "      <td>2.848070e+05</td>\n",
       "      <td>2.848070e+05</td>\n",
       "      <td>2.848070e+05</td>\n",
       "      <td>2.848070e+05</td>\n",
       "      <td>2.848070e+05</td>\n",
       "      <td>2.848070e+05</td>\n",
       "      <td>2.848070e+05</td>\n",
       "      <td>2.848070e+05</td>\n",
       "      <td>2.848070e+05</td>\n",
       "      <td>...</td>\n",
       "      <td>2.848070e+05</td>\n",
       "      <td>2.848070e+05</td>\n",
       "      <td>2.848070e+05</td>\n",
       "      <td>2.848070e+05</td>\n",
       "      <td>2.848070e+05</td>\n",
       "      <td>2.848070e+05</td>\n",
       "      <td>2.848070e+05</td>\n",
       "      <td>2.848070e+05</td>\n",
       "      <td>284807.000000</td>\n",
       "      <td>284807.000000</td>\n",
       "    </tr>\n",
       "    <tr>\n",
       "      <th>mean</th>\n",
       "      <td>94813.859575</td>\n",
       "      <td>1.168375e-15</td>\n",
       "      <td>3.416908e-16</td>\n",
       "      <td>-1.379537e-15</td>\n",
       "      <td>2.074095e-15</td>\n",
       "      <td>9.604066e-16</td>\n",
       "      <td>1.487313e-15</td>\n",
       "      <td>-5.556467e-16</td>\n",
       "      <td>1.213481e-16</td>\n",
       "      <td>-2.406331e-15</td>\n",
       "      <td>...</td>\n",
       "      <td>1.654067e-16</td>\n",
       "      <td>-3.568593e-16</td>\n",
       "      <td>2.578648e-16</td>\n",
       "      <td>4.473266e-15</td>\n",
       "      <td>5.340915e-16</td>\n",
       "      <td>1.683437e-15</td>\n",
       "      <td>-3.660091e-16</td>\n",
       "      <td>-1.227390e-16</td>\n",
       "      <td>88.349619</td>\n",
       "      <td>0.001727</td>\n",
       "    </tr>\n",
       "    <tr>\n",
       "      <th>std</th>\n",
       "      <td>47488.145955</td>\n",
       "      <td>1.958696e+00</td>\n",
       "      <td>1.651309e+00</td>\n",
       "      <td>1.516255e+00</td>\n",
       "      <td>1.415869e+00</td>\n",
       "      <td>1.380247e+00</td>\n",
       "      <td>1.332271e+00</td>\n",
       "      <td>1.237094e+00</td>\n",
       "      <td>1.194353e+00</td>\n",
       "      <td>1.098632e+00</td>\n",
       "      <td>...</td>\n",
       "      <td>7.345240e-01</td>\n",
       "      <td>7.257016e-01</td>\n",
       "      <td>6.244603e-01</td>\n",
       "      <td>6.056471e-01</td>\n",
       "      <td>5.212781e-01</td>\n",
       "      <td>4.822270e-01</td>\n",
       "      <td>4.036325e-01</td>\n",
       "      <td>3.300833e-01</td>\n",
       "      <td>250.120109</td>\n",
       "      <td>0.041527</td>\n",
       "    </tr>\n",
       "    <tr>\n",
       "      <th>min</th>\n",
       "      <td>0.000000</td>\n",
       "      <td>-5.640751e+01</td>\n",
       "      <td>-7.271573e+01</td>\n",
       "      <td>-4.832559e+01</td>\n",
       "      <td>-5.683171e+00</td>\n",
       "      <td>-1.137433e+02</td>\n",
       "      <td>-2.616051e+01</td>\n",
       "      <td>-4.355724e+01</td>\n",
       "      <td>-7.321672e+01</td>\n",
       "      <td>-1.343407e+01</td>\n",
       "      <td>...</td>\n",
       "      <td>-3.483038e+01</td>\n",
       "      <td>-1.093314e+01</td>\n",
       "      <td>-4.480774e+01</td>\n",
       "      <td>-2.836627e+00</td>\n",
       "      <td>-1.029540e+01</td>\n",
       "      <td>-2.604551e+00</td>\n",
       "      <td>-2.256568e+01</td>\n",
       "      <td>-1.543008e+01</td>\n",
       "      <td>0.000000</td>\n",
       "      <td>0.000000</td>\n",
       "    </tr>\n",
       "    <tr>\n",
       "      <th>25%</th>\n",
       "      <td>54201.500000</td>\n",
       "      <td>-9.203734e-01</td>\n",
       "      <td>-5.985499e-01</td>\n",
       "      <td>-8.903648e-01</td>\n",
       "      <td>-8.486401e-01</td>\n",
       "      <td>-6.915971e-01</td>\n",
       "      <td>-7.682956e-01</td>\n",
       "      <td>-5.540759e-01</td>\n",
       "      <td>-2.086297e-01</td>\n",
       "      <td>-6.430976e-01</td>\n",
       "      <td>...</td>\n",
       "      <td>-2.283949e-01</td>\n",
       "      <td>-5.423504e-01</td>\n",
       "      <td>-1.618463e-01</td>\n",
       "      <td>-3.545861e-01</td>\n",
       "      <td>-3.171451e-01</td>\n",
       "      <td>-3.269839e-01</td>\n",
       "      <td>-7.083953e-02</td>\n",
       "      <td>-5.295979e-02</td>\n",
       "      <td>5.600000</td>\n",
       "      <td>0.000000</td>\n",
       "    </tr>\n",
       "    <tr>\n",
       "      <th>50%</th>\n",
       "      <td>84692.000000</td>\n",
       "      <td>1.810880e-02</td>\n",
       "      <td>6.548556e-02</td>\n",
       "      <td>1.798463e-01</td>\n",
       "      <td>-1.984653e-02</td>\n",
       "      <td>-5.433583e-02</td>\n",
       "      <td>-2.741871e-01</td>\n",
       "      <td>4.010308e-02</td>\n",
       "      <td>2.235804e-02</td>\n",
       "      <td>-5.142873e-02</td>\n",
       "      <td>...</td>\n",
       "      <td>-2.945017e-02</td>\n",
       "      <td>6.781943e-03</td>\n",
       "      <td>-1.119293e-02</td>\n",
       "      <td>4.097606e-02</td>\n",
       "      <td>1.659350e-02</td>\n",
       "      <td>-5.213911e-02</td>\n",
       "      <td>1.342146e-03</td>\n",
       "      <td>1.124383e-02</td>\n",
       "      <td>22.000000</td>\n",
       "      <td>0.000000</td>\n",
       "    </tr>\n",
       "    <tr>\n",
       "      <th>75%</th>\n",
       "      <td>139320.500000</td>\n",
       "      <td>1.315642e+00</td>\n",
       "      <td>8.037239e-01</td>\n",
       "      <td>1.027196e+00</td>\n",
       "      <td>7.433413e-01</td>\n",
       "      <td>6.119264e-01</td>\n",
       "      <td>3.985649e-01</td>\n",
       "      <td>5.704361e-01</td>\n",
       "      <td>3.273459e-01</td>\n",
       "      <td>5.971390e-01</td>\n",
       "      <td>...</td>\n",
       "      <td>1.863772e-01</td>\n",
       "      <td>5.285536e-01</td>\n",
       "      <td>1.476421e-01</td>\n",
       "      <td>4.395266e-01</td>\n",
       "      <td>3.507156e-01</td>\n",
       "      <td>2.409522e-01</td>\n",
       "      <td>9.104512e-02</td>\n",
       "      <td>7.827995e-02</td>\n",
       "      <td>77.165000</td>\n",
       "      <td>0.000000</td>\n",
       "    </tr>\n",
       "    <tr>\n",
       "      <th>max</th>\n",
       "      <td>172792.000000</td>\n",
       "      <td>2.454930e+00</td>\n",
       "      <td>2.205773e+01</td>\n",
       "      <td>9.382558e+00</td>\n",
       "      <td>1.687534e+01</td>\n",
       "      <td>3.480167e+01</td>\n",
       "      <td>7.330163e+01</td>\n",
       "      <td>1.205895e+02</td>\n",
       "      <td>2.000721e+01</td>\n",
       "      <td>1.559499e+01</td>\n",
       "      <td>...</td>\n",
       "      <td>2.720284e+01</td>\n",
       "      <td>1.050309e+01</td>\n",
       "      <td>2.252841e+01</td>\n",
       "      <td>4.584549e+00</td>\n",
       "      <td>7.519589e+00</td>\n",
       "      <td>3.517346e+00</td>\n",
       "      <td>3.161220e+01</td>\n",
       "      <td>3.384781e+01</td>\n",
       "      <td>25691.160000</td>\n",
       "      <td>1.000000</td>\n",
       "    </tr>\n",
       "  </tbody>\n",
       "</table>\n",
       "<p>8 rows × 31 columns</p>\n",
       "</div>"
      ],
      "text/plain": [
       "                Time            V1            V2            V3            V4  \\\n",
       "count  284807.000000  2.848070e+05  2.848070e+05  2.848070e+05  2.848070e+05   \n",
       "mean    94813.859575  1.168375e-15  3.416908e-16 -1.379537e-15  2.074095e-15   \n",
       "std     47488.145955  1.958696e+00  1.651309e+00  1.516255e+00  1.415869e+00   \n",
       "min         0.000000 -5.640751e+01 -7.271573e+01 -4.832559e+01 -5.683171e+00   \n",
       "25%     54201.500000 -9.203734e-01 -5.985499e-01 -8.903648e-01 -8.486401e-01   \n",
       "50%     84692.000000  1.810880e-02  6.548556e-02  1.798463e-01 -1.984653e-02   \n",
       "75%    139320.500000  1.315642e+00  8.037239e-01  1.027196e+00  7.433413e-01   \n",
       "max    172792.000000  2.454930e+00  2.205773e+01  9.382558e+00  1.687534e+01   \n",
       "\n",
       "                 V5            V6            V7            V8            V9  \\\n",
       "count  2.848070e+05  2.848070e+05  2.848070e+05  2.848070e+05  2.848070e+05   \n",
       "mean   9.604066e-16  1.487313e-15 -5.556467e-16  1.213481e-16 -2.406331e-15   \n",
       "std    1.380247e+00  1.332271e+00  1.237094e+00  1.194353e+00  1.098632e+00   \n",
       "min   -1.137433e+02 -2.616051e+01 -4.355724e+01 -7.321672e+01 -1.343407e+01   \n",
       "25%   -6.915971e-01 -7.682956e-01 -5.540759e-01 -2.086297e-01 -6.430976e-01   \n",
       "50%   -5.433583e-02 -2.741871e-01  4.010308e-02  2.235804e-02 -5.142873e-02   \n",
       "75%    6.119264e-01  3.985649e-01  5.704361e-01  3.273459e-01  5.971390e-01   \n",
       "max    3.480167e+01  7.330163e+01  1.205895e+02  2.000721e+01  1.559499e+01   \n",
       "\n",
       "       ...           V21           V22           V23           V24  \\\n",
       "count  ...  2.848070e+05  2.848070e+05  2.848070e+05  2.848070e+05   \n",
       "mean   ...  1.654067e-16 -3.568593e-16  2.578648e-16  4.473266e-15   \n",
       "std    ...  7.345240e-01  7.257016e-01  6.244603e-01  6.056471e-01   \n",
       "min    ... -3.483038e+01 -1.093314e+01 -4.480774e+01 -2.836627e+00   \n",
       "25%    ... -2.283949e-01 -5.423504e-01 -1.618463e-01 -3.545861e-01   \n",
       "50%    ... -2.945017e-02  6.781943e-03 -1.119293e-02  4.097606e-02   \n",
       "75%    ...  1.863772e-01  5.285536e-01  1.476421e-01  4.395266e-01   \n",
       "max    ...  2.720284e+01  1.050309e+01  2.252841e+01  4.584549e+00   \n",
       "\n",
       "                V25           V26           V27           V28         Amount  \\\n",
       "count  2.848070e+05  2.848070e+05  2.848070e+05  2.848070e+05  284807.000000   \n",
       "mean   5.340915e-16  1.683437e-15 -3.660091e-16 -1.227390e-16      88.349619   \n",
       "std    5.212781e-01  4.822270e-01  4.036325e-01  3.300833e-01     250.120109   \n",
       "min   -1.029540e+01 -2.604551e+00 -2.256568e+01 -1.543008e+01       0.000000   \n",
       "25%   -3.171451e-01 -3.269839e-01 -7.083953e-02 -5.295979e-02       5.600000   \n",
       "50%    1.659350e-02 -5.213911e-02  1.342146e-03  1.124383e-02      22.000000   \n",
       "75%    3.507156e-01  2.409522e-01  9.104512e-02  7.827995e-02      77.165000   \n",
       "max    7.519589e+00  3.517346e+00  3.161220e+01  3.384781e+01   25691.160000   \n",
       "\n",
       "               Class  \n",
       "count  284807.000000  \n",
       "mean        0.001727  \n",
       "std         0.041527  \n",
       "min         0.000000  \n",
       "25%         0.000000  \n",
       "50%         0.000000  \n",
       "75%         0.000000  \n",
       "max         1.000000  \n",
       "\n",
       "[8 rows x 31 columns]"
      ]
     },
     "execution_count": 4,
     "metadata": {},
     "output_type": "execute_result"
    }
   ],
   "source": [
    "df.describe()"
   ]
  },
  {
   "cell_type": "code",
   "execution_count": 5,
   "id": "73ef39af",
   "metadata": {
    "scrolled": true
   },
   "outputs": [
    {
     "data": {
      "text/plain": [
       "Class\n",
       "0    284315\n",
       "1       492\n",
       "Name: count, dtype: int64"
      ]
     },
     "execution_count": 5,
     "metadata": {},
     "output_type": "execute_result"
    }
   ],
   "source": [
    "df['Class'].value_counts()        # very imbalanced data"
   ]
  },
  {
   "cell_type": "code",
   "execution_count": 6,
   "id": "398aef2c",
   "metadata": {},
   "outputs": [
    {
     "data": {
      "text/plain": [
       "Class\n",
       "0    0.998273\n",
       "1    0.001727\n",
       "Name: count, dtype: float64"
      ]
     },
     "execution_count": 6,
     "metadata": {},
     "output_type": "execute_result"
    }
   ],
   "source": [
    "df['Class'].value_counts()/df['Class'].count()"
   ]
  },
  {
   "cell_type": "code",
   "execution_count": 7,
   "id": "506e8702",
   "metadata": {
    "scrolled": false
   },
   "outputs": [
    {
     "data": {
      "image/png": "[encoded data removed]",
      "text/plain": [
       "<Figure size 640x480 with 1 Axes>"
      ]
     },
     "metadata": {},
     "output_type": "display_data"
    }
   ],
   "source": [
    "sns.countplot(df, x='Class');   "
   ]
  },
  {
   "cell_type": "markdown",
   "id": "2d82d06b",
   "metadata": {},
   "source": [
    "### Train Test Split"
   ]
  },
  {
   "cell_type": "code",
   "execution_count": 8,
   "id": "bf8b3c02",
   "metadata": {},
   "outputs": [],
   "source": [
    "from sklearn.model_selection import train_test_split"
   ]
  },
  {
   "cell_type": "code",
   "execution_count": 9,
   "id": "c4260b50",
   "metadata": {},
   "outputs": [],
   "source": [
    "X = df.drop(columns=['Class'])\n",
    "y = df['Class']"
   ]
  },
  {
   "cell_type": "code",
   "execution_count": 10,
   "id": "1353fada",
   "metadata": {},
   "outputs": [],
   "source": [
    "X_train, X_test, y_train, y_test = train_test_split(X, y, test_size=0.25, random_state=10, stratify=y)"
   ]
  },
  {
   "cell_type": "code",
   "execution_count": 11,
   "id": "61d70bfc",
   "metadata": {},
   "outputs": [
    {
     "data": {
      "text/plain": [
       "Class\n",
       "0    213236\n",
       "1       369\n",
       "Name: count, dtype: int64"
      ]
     },
     "execution_count": 11,
     "metadata": {},
     "output_type": "execute_result"
    }
   ],
   "source": [
    "y_train.value_counts()"
   ]
  },
  {
   "cell_type": "code",
   "execution_count": 12,
   "id": "f79472fd",
   "metadata": {
    "scrolled": false
   },
   "outputs": [
    {
     "data": {
      "text/plain": [
       "Class\n",
       "0    71079\n",
       "1      123\n",
       "Name: count, dtype: int64"
      ]
     },
     "execution_count": 12,
     "metadata": {},
     "output_type": "execute_result"
    }
   ],
   "source": [
    "y_test.value_counts()"
   ]
  },
  {
   "cell_type": "code",
   "execution_count": 13,
   "id": "62dc45f0",
   "metadata": {},
   "outputs": [
    {
     "data": {
      "text/plain": [
       "Class\n",
       "0    2.999986\n",
       "1    3.000000\n",
       "Name: count, dtype: float64"
      ]
     },
     "execution_count": 13,
     "metadata": {},
     "output_type": "execute_result"
    }
   ],
   "source": [
    "y_train.value_counts()/y_test.value_counts()"
   ]
  },
  {
   "cell_type": "markdown",
   "id": "b71dcb42",
   "metadata": {},
   "source": [
    "### Scaling the data "
   ]
  },
  {
   "cell_type": "code",
   "execution_count": 14,
   "id": "f0724933",
   "metadata": {},
   "outputs": [],
   "source": [
    "from sklearn.preprocessing import MinMaxScaler"
   ]
  },
  {
   "cell_type": "code",
   "execution_count": 15,
   "id": "0e6393f6",
   "metadata": {},
   "outputs": [
    {
     "data": {
      "text/html": [
       "<style>#sk-container-id-1 {color: black;}#sk-container-id-1 pre{padding: 0;}#sk-container-id-1 div.sk-toggleable {background-color: white;}#sk-container-id-1 label.sk-toggleable__label {cursor: pointer;display: block;width: 100%;margin-bottom: 0;padding: 0.3em;box-sizing: border-box;text-align: center;}#sk-container-id-1 label.sk-toggleable__label-arrow:before {content: \"▸\";float: left;margin-right: 0.25em;color: #696969;}#sk-container-id-1 label.sk-toggleable__label-arrow:hover:before {color: black;}#sk-container-id-1 div.sk-estimator:hover label.sk-toggleable__label-arrow:before {color: black;}#sk-container-id-1 div.sk-toggleable__content {max-height: 0;max-width: 0;overflow: hidden;text-align: left;background-color: #f0f8ff;}#sk-container-id-1 div.sk-toggleable__content pre {margin: 0.2em;color: black;border-radius: 0.25em;background-color: #f0f8ff;}#sk-container-id-1 input.sk-toggleable__control:checked~div.sk-toggleable__content {max-height: 200px;max-width: 100%;overflow: auto;}#sk-container-id-1 input.sk-toggleable__control:checked~label.sk-toggleable__label-arrow:before {content: \"▾\";}#sk-container-id-1 div.sk-estimator input.sk-toggleable__control:checked~label.sk-toggleable__label {background-color: #d4ebff;}#sk-container-id-1 div.sk-label input.sk-toggleable__control:checked~label.sk-toggleable__label {background-color: #d4ebff;}#sk-container-id-1 input.sk-hidden--visually {border: 0;clip: rect(1px 1px 1px 1px);clip: rect(1px, 1px, 1px, 1px);height: 1px;margin: -1px;overflow: hidden;padding: 0;position: absolute;width: 1px;}#sk-container-id-1 div.sk-estimator {font-family: monospace;background-color: #f0f8ff;border: 1px dotted black;border-radius: 0.25em;box-sizing: border-box;margin-bottom: 0.5em;}#sk-container-id-1 div.sk-estimator:hover {background-color: #d4ebff;}#sk-container-id-1 div.sk-parallel-item::after {content: \"\";width: 100%;border-bottom: 1px solid gray;flex-grow: 1;}#sk-container-id-1 div.sk-label:hover label.sk-toggleable__label {background-color: #d4ebff;}#sk-container-id-1 div.sk-serial::before {content: \"\";position: absolute;border-left: 1px solid gray;box-sizing: border-box;top: 0;bottom: 0;left: 50%;z-index: 0;}#sk-container-id-1 div.sk-serial {display: flex;flex-direction: column;align-items: center;background-color: white;padding-right: 0.2em;padding-left: 0.2em;position: relative;}#sk-container-id-1 div.sk-item {position: relative;z-index: 1;}#sk-container-id-1 div.sk-parallel {display: flex;align-items: stretch;justify-content: center;background-color: white;position: relative;}#sk-container-id-1 div.sk-item::before, #sk-container-id-1 div.sk-parallel-item::before {content: \"\";position: absolute;border-left: 1px solid gray;box-sizing: border-box;top: 0;bottom: 0;left: 50%;z-index: -1;}#sk-container-id-1 div.sk-parallel-item {display: flex;flex-direction: column;z-index: 1;position: relative;background-color: white;}#sk-container-id-1 div.sk-parallel-item:first-child::after {align-self: flex-end;width: 50%;}#sk-container-id-1 div.sk-parallel-item:last-child::after {align-self: flex-start;width: 50%;}#sk-container-id-1 div.sk-parallel-item:only-child::after {width: 0;}#sk-container-id-1 div.sk-dashed-wrapped {border: 1px dashed gray;margin: 0 0.4em 0.5em 0.4em;box-sizing: border-box;padding-bottom: 0.4em;background-color: white;}#sk-container-id-1 div.sk-label label {font-family: monospace;font-weight: bold;display: inline-block;line-height: 1.2em;}#sk-container-id-1 div.sk-label-container {text-align: center;}#sk-container-id-1 div.sk-container {/* jupyter's `normalize.less` sets `[hidden] { display: none; }` but bootstrap.min.css set `[hidden] { display: none !important; }` so we also need the `!important` here to be able to override the default hidden behavior on the sphinx rendered scikit-learn.org. See: https://github.com/scikit-learn/scikit-learn/issues/21755 */display: inline-block !important;position: relative;}#sk-container-id-1 div.sk-text-repr-fallback {display: none;}</style><div id=\"sk-container-id-1\" class=\"sk-top-container\"><div class=\"sk-text-repr-fallback\"><pre>MinMaxScaler()</pre><b>In a Jupyter environment, please rerun this cell to show the HTML representation or trust the notebook. <br />On GitHub, the HTML representation is unable to render, please try loading this page with nbviewer.org.</b></div><div class=\"sk-container\" hidden><div class=\"sk-item\"><div class=\"sk-estimator sk-toggleable\"><input class=\"sk-toggleable__control sk-hidden--visually\" id=\"sk-estimator-id-1\" type=\"checkbox\" checked><label for=\"sk-estimator-id-1\" class=\"sk-toggleable__label sk-toggleable__label-arrow\">MinMaxScaler</label><div class=\"sk-toggleable__content\"><pre>MinMaxScaler()</pre></div></div></div></div></div>"
      ],
      "text/plain": [
       "MinMaxScaler()"
      ]
     },
     "execution_count": 15,
     "metadata": {},
     "output_type": "execute_result"
    }
   ],
   "source": [
    "scaler = MinMaxScaler()\n",
    "scaler.fit(X_train)"
   ]
  },
  {
   "cell_type": "code",
   "execution_count": 16,
   "id": "b3fd782b",
   "metadata": {},
   "outputs": [],
   "source": [
    "X_train_scaled = scaler.transform(X_train)\n",
    "X_test_scaled = scaler.transform(X_test)"
   ]
  },
  {
   "cell_type": "markdown",
   "id": "46fe8f8f",
   "metadata": {},
   "source": [
    "## Random Forest Classification"
   ]
  },
  {
   "cell_type": "code",
   "execution_count": 17,
   "id": "58fe9634",
   "metadata": {},
   "outputs": [],
   "source": [
    "from sklearn.ensemble import RandomForestClassifier"
   ]
  },
  {
   "cell_type": "code",
   "execution_count": 18,
   "id": "e9159708",
   "metadata": {},
   "outputs": [
    {
     "data": {
      "text/html": [
       "<style>#sk-container-id-2 {color: black;}#sk-container-id-2 pre{padding: 0;}#sk-container-id-2 div.sk-toggleable {background-color: white;}#sk-container-id-2 label.sk-toggleable__label {cursor: pointer;display: block;width: 100%;margin-bottom: 0;padding: 0.3em;box-sizing: border-box;text-align: center;}#sk-container-id-2 label.sk-toggleable__label-arrow:before {content: \"▸\";float: left;margin-right: 0.25em;color: #696969;}#sk-container-id-2 label.sk-toggleable__label-arrow:hover:before {color: black;}#sk-container-id-2 div.sk-estimator:hover label.sk-toggleable__label-arrow:before {color: black;}#sk-container-id-2 div.sk-toggleable__content {max-height: 0;max-width: 0;overflow: hidden;text-align: left;background-color: #f0f8ff;}#sk-container-id-2 div.sk-toggleable__content pre {margin: 0.2em;color: black;border-radius: 0.25em;background-color: #f0f8ff;}#sk-container-id-2 input.sk-toggleable__control:checked~div.sk-toggleable__content {max-height: 200px;max-width: 100%;overflow: auto;}#sk-container-id-2 input.sk-toggleable__control:checked~label.sk-toggleable__label-arrow:before {content: \"▾\";}#sk-container-id-2 div.sk-estimator input.sk-toggleable__control:checked~label.sk-toggleable__label {background-color: #d4ebff;}#sk-container-id-2 div.sk-label input.sk-toggleable__control:checked~label.sk-toggleable__label {background-color: #d4ebff;}#sk-container-id-2 input.sk-hidden--visually {border: 0;clip: rect(1px 1px 1px 1px);clip: rect(1px, 1px, 1px, 1px);height: 1px;margin: -1px;overflow: hidden;padding: 0;position: absolute;width: 1px;}#sk-container-id-2 div.sk-estimator {font-family: monospace;background-color: #f0f8ff;border: 1px dotted black;border-radius: 0.25em;box-sizing: border-box;margin-bottom: 0.5em;}#sk-container-id-2 div.sk-estimator:hover {background-color: #d4ebff;}#sk-container-id-2 div.sk-parallel-item::after {content: \"\";width: 100%;border-bottom: 1px solid gray;flex-grow: 1;}#sk-container-id-2 div.sk-label:hover label.sk-toggleable__label {background-color: #d4ebff;}#sk-container-id-2 div.sk-serial::before {content: \"\";position: absolute;border-left: 1px solid gray;box-sizing: border-box;top: 0;bottom: 0;left: 50%;z-index: 0;}#sk-container-id-2 div.sk-serial {display: flex;flex-direction: column;align-items: center;background-color: white;padding-right: 0.2em;padding-left: 0.2em;position: relative;}#sk-container-id-2 div.sk-item {position: relative;z-index: 1;}#sk-container-id-2 div.sk-parallel {display: flex;align-items: stretch;justify-content: center;background-color: white;position: relative;}#sk-container-id-2 div.sk-item::before, #sk-container-id-2 div.sk-parallel-item::before {content: \"\";position: absolute;border-left: 1px solid gray;box-sizing: border-box;top: 0;bottom: 0;left: 50%;z-index: -1;}#sk-container-id-2 div.sk-parallel-item {display: flex;flex-direction: column;z-index: 1;position: relative;background-color: white;}#sk-container-id-2 div.sk-parallel-item:first-child::after {align-self: flex-end;width: 50%;}#sk-container-id-2 div.sk-parallel-item:last-child::after {align-self: flex-start;width: 50%;}#sk-container-id-2 div.sk-parallel-item:only-child::after {width: 0;}#sk-container-id-2 div.sk-dashed-wrapped {border: 1px dashed gray;margin: 0 0.4em 0.5em 0.4em;box-sizing: border-box;padding-bottom: 0.4em;background-color: white;}#sk-container-id-2 div.sk-label label {font-family: monospace;font-weight: bold;display: inline-block;line-height: 1.2em;}#sk-container-id-2 div.sk-label-container {text-align: center;}#sk-container-id-2 div.sk-container {/* jupyter's `normalize.less` sets `[hidden] { display: none; }` but bootstrap.min.css set `[hidden] { display: none !important; }` so we also need the `!important` here to be able to override the default hidden behavior on the sphinx rendered scikit-learn.org. See: https://github.com/scikit-learn/scikit-learn/issues/21755 */display: inline-block !important;position: relative;}#sk-container-id-2 div.sk-text-repr-fallback {display: none;}</style><div id=\"sk-container-id-2\" class=\"sk-top-container\"><div class=\"sk-text-repr-fallback\"><pre>RandomForestClassifier(class_weight=&#x27;balanced&#x27;)</pre><b>In a Jupyter environment, please rerun this cell to show the HTML representation or trust the notebook. <br />On GitHub, the HTML representation is unable to render, please try loading this page with nbviewer.org.</b></div><div class=\"sk-container\" hidden><div class=\"sk-item\"><div class=\"sk-estimator sk-toggleable\"><input class=\"sk-toggleable__control sk-hidden--visually\" id=\"sk-estimator-id-2\" type=\"checkbox\" checked><label for=\"sk-estimator-id-2\" class=\"sk-toggleable__label sk-toggleable__label-arrow\">RandomForestClassifier</label><div class=\"sk-toggleable__content\"><pre>RandomForestClassifier(class_weight=&#x27;balanced&#x27;)</pre></div></div></div></div></div>"
      ],
      "text/plain": [
       "RandomForestClassifier(class_weight='balanced')"
      ]
     },
     "execution_count": 18,
     "metadata": {},
     "output_type": "execute_result"
    }
   ],
   "source": [
    "clf_rf = RandomForestClassifier(class_weight='balanced')\n",
    "clf_rf.fit(X_train_scaled, y_train)"
   ]
  },
  {
   "cell_type": "code",
   "execution_count": 19,
   "id": "67b32767",
   "metadata": {},
   "outputs": [
    {
     "data": {
      "text/plain": [
       "array([0, 0, 0, ..., 0, 0, 0], dtype=int64)"
      ]
     },
     "execution_count": 19,
     "metadata": {},
     "output_type": "execute_result"
    }
   ],
   "source": [
    "y_pred = clf_rf.predict(X_test_scaled)\n",
    "y_pred"
   ]
  },
  {
   "cell_type": "code",
   "execution_count": 20,
   "id": "c25de69b",
   "metadata": {},
   "outputs": [],
   "source": [
    "from sklearn.metrics import classification_report, confusion_matrix"
   ]
  },
  {
   "cell_type": "code",
   "execution_count": 21,
   "id": "30a2f3fa",
   "metadata": {},
   "outputs": [
    {
     "name": "stdout",
     "output_type": "stream",
     "text": [
      "              precision    recall  f1-score   support\n",
      "\n",
      "       Legal       1.00      1.00      1.00     71079\n",
      "  Fraudulent       0.95      0.76      0.84       123\n",
      "\n",
      "    accuracy                           1.00     71202\n",
      "   macro avg       0.97      0.88      0.92     71202\n",
      "weighted avg       1.00      1.00      1.00     71202\n",
      "\n"
     ]
    }
   ],
   "source": [
    "target_names = ['Legal','Fraudulent']\n",
    "print(classification_report(y_true=y_test, y_pred=y_pred, target_names=target_names))"
   ]
  },
  {
   "cell_type": "code",
   "execution_count": 22,
   "id": "c1674599",
   "metadata": {
    "scrolled": false
   },
   "outputs": [
    {
     "data": {
      "image/png": "[encoded data removed]",
      "text/plain": [
       "<Figure size 640x480 with 2 Axes>"
      ]
     },
     "metadata": {},
     "output_type": "display_data"
    }
   ],
   "source": [
    "labels = [0,1]\n",
    "cm = confusion_matrix(y_true=y_test, y_pred=y_pred, labels=labels)\n",
    "classes = ['Legal', 'Fraudulent']\n",
    "df_cm = pd.DataFrame(cm, index=classes, columns=classes)\n",
    "sns.heatmap(df_cm, annot=True, fmt='d', cmap='YlGnBu')\n",
    "plt.title('Random Forest Classifier', fontdict={'fontsize':14, 'weight': 'bold'})\n",
    "plt.xlabel('Predicted', fontdict={'fontsize':10, 'weight': 'bold'})\n",
    "plt.ylabel('Actual', fontdict={'fontsize':10, 'weight': 'bold'})\n",
    "plt.show()"
   ]
  },
  {
   "cell_type": "markdown",
   "id": "ab7ebdf4",
   "metadata": {},
   "source": [
    "## Naive Bayes Classification"
   ]
  },
  {
   "cell_type": "code",
   "execution_count": 23,
   "id": "00cb2020",
   "metadata": {},
   "outputs": [],
   "source": [
    "from sklearn.naive_bayes import GaussianNB"
   ]
  },
  {
   "cell_type": "code",
   "execution_count": 24,
   "id": "191fe993",
   "metadata": {},
   "outputs": [],
   "source": [
    "gnb = GaussianNB()\n",
    "gnb_classifier = gnb.fit(X_train_scaled, y_train)\n",
    "y_pred = gnb_classifier.predict(X_train_scaled)"
   ]
  },
  {
   "cell_type": "code",
   "execution_count": 25,
   "id": "86a853d7",
   "metadata": {
    "scrolled": true
   },
   "outputs": [
    {
     "name": "stdout",
     "output_type": "stream",
     "text": [
      "              precision    recall  f1-score   support\n",
      "\n",
      "       Legal       1.00      0.98      0.99    213236\n",
      "  Fraudulent       0.06      0.83      0.12       369\n",
      "\n",
      "    accuracy                           0.98    213605\n",
      "   macro avg       0.53      0.91      0.55    213605\n",
      "weighted avg       1.00      0.98      0.99    213605\n",
      "\n"
     ]
    }
   ],
   "source": [
    "target_names = ['Legal','Fraudulent']       \n",
    "print(classification_report(y_true=y_train, y_pred=y_pred, target_names=target_names))     # train set"
   ]
  },
  {
   "cell_type": "code",
   "execution_count": 26,
   "id": "5ff68ae5",
   "metadata": {
    "scrolled": true
   },
   "outputs": [
    {
     "data": {
      "text/plain": [
       "array([[1.00000000e+00, 5.86340270e-18],\n",
       "       [1.00000000e+00, 5.56714370e-18],\n",
       "       [1.00000000e+00, 7.23538551e-18],\n",
       "       ...,\n",
       "       [1.00000000e+00, 5.42198166e-17],\n",
       "       [1.00000000e+00, 2.17319131e-17],\n",
       "       [1.00000000e+00, 3.82189432e-18]])"
      ]
     },
     "execution_count": 26,
     "metadata": {},
     "output_type": "execute_result"
    }
   ],
   "source": [
    "y_pred_proba = gnb_classifier.predict_proba(X_train_scaled)\n",
    "y_pred_proba"
   ]
  },
  {
   "cell_type": "code",
   "execution_count": 27,
   "id": "241d6186",
   "metadata": {},
   "outputs": [
    {
     "data": {
      "text/plain": [
       "array([5.86340270e-18, 5.56714370e-18, 7.23538551e-18, ...,\n",
       "       5.42198166e-17, 2.17319131e-17, 3.82189432e-18])"
      ]
     },
     "execution_count": 27,
     "metadata": {},
     "output_type": "execute_result"
    }
   ],
   "source": [
    "y_pred_proba = y_pred_proba[:,1]\n",
    "y_pred_proba"
   ]
  },
  {
   "cell_type": "markdown",
   "id": "5a5718c8",
   "metadata": {},
   "source": [
    "### Finding the optimal threshold"
   ]
  },
  {
   "cell_type": "code",
   "execution_count": 28,
   "id": "4a775608",
   "metadata": {},
   "outputs": [],
   "source": [
    "from sklearn.metrics import roc_curve, roc_auc_score"
   ]
  },
  {
   "cell_type": "code",
   "execution_count": 29,
   "id": "3e35cd36",
   "metadata": {},
   "outputs": [],
   "source": [
    "fpr, tpr, threshold = roc_curve(y_train, y_pred_proba)"
   ]
  },
  {
   "cell_type": "code",
   "execution_count": 30,
   "id": "ce26d978",
   "metadata": {
    "scrolled": true
   },
   "outputs": [
    {
     "data": {
      "text/plain": [
       "array([           inf, 1.00000000e+00, 1.00000000e+00, ...,\n",
       "       7.48578565e-19, 7.47927556e-19, 2.12155140e-22])"
      ]
     },
     "execution_count": 30,
     "metadata": {},
     "output_type": "execute_result"
    }
   ],
   "source": [
    "threshold"
   ]
  },
  {
   "cell_type": "code",
   "execution_count": 31,
   "id": "15dbaf16",
   "metadata": {},
   "outputs": [],
   "source": [
    "threshold[0] = 0.999"
   ]
  },
  {
   "cell_type": "code",
   "execution_count": 32,
   "id": "5fa6fa08",
   "metadata": {
    "scrolled": false
   },
   "outputs": [
    {
     "data": {
      "text/plain": [
       "array([9.99000000e-01, 1.00000000e+00, 1.00000000e+00, ...,\n",
       "       7.48578565e-19, 7.47927556e-19, 2.12155140e-22])"
      ]
     },
     "execution_count": 32,
     "metadata": {},
     "output_type": "execute_result"
    }
   ],
   "source": [
    "threshold"
   ]
  },
  {
   "cell_type": "code",
   "execution_count": 33,
   "id": "27fb7dc7",
   "metadata": {},
   "outputs": [
    {
     "data": {
      "text/plain": [
       "array([0.        , 0.75609756, 0.75609756, ..., 1.        , 1.        ,\n",
       "       1.        ])"
      ]
     },
     "execution_count": 33,
     "metadata": {},
     "output_type": "execute_result"
    }
   ],
   "source": [
    "tpr"
   ]
  },
  {
   "cell_type": "code",
   "execution_count": 34,
   "id": "301e2aff",
   "metadata": {
    "scrolled": false
   },
   "outputs": [
    {
     "data": {
      "text/plain": [
       "array([0.        , 0.01137238, 0.01137707, ..., 0.99567615, 0.99568553,\n",
       "       1.        ])"
      ]
     },
     "execution_count": 34,
     "metadata": {},
     "output_type": "execute_result"
    }
   ],
   "source": [
    "fpr"
   ]
  },
  {
   "cell_type": "code",
   "execution_count": 35,
   "id": "304d6b0e",
   "metadata": {
    "scrolled": true
   },
   "outputs": [],
   "source": [
    "def optimal_threshold(y_true, y_score):\n",
    "    \"\"\"\n",
    "   Find the optimal threshold at which tpr = tnr\n",
    "   \"\"\"\n",
    "   \n",
    "    fpr, tpr, threshold = roc_curve(y_true, y_score)\n",
    "    threshold[0] = 0.9999\n",
    "    true_rates = pd.DataFrame(data={'threshold': pd.Series(threshold), 'tpr': pd.Series(tpr), \n",
    "                               'tnr': pd.Series(1-fpr), 'tpr-tnr': pd.Series(tpr-(1-fpr))})\n",
    "    optimal = true_rates.abs().sort_values(by='tpr-tnr').iloc[0]\n",
    "    print(optimal)\n",
    "   \n",
    "    # Plot tpr and tnr\n",
    "    plt.plot(tpr)\n",
    "    plt.plot(1-fpr)\n",
    "    plt.title('TPR and TNR')\n",
    "    plt.show()\n",
    "    \n",
    "    return optimal.threshold"
   ]
  },
  {
   "cell_type": "code",
   "execution_count": 36,
   "id": "470148d3",
   "metadata": {
    "scrolled": false
   },
   "outputs": [
    {
     "name": "stdout",
     "output_type": "stream",
     "text": [
      "threshold    6.400404e-13\n",
      "tpr          9.078591e-01\n",
      "tnr          9.082425e-01\n",
      "tpr-tnr      3.834321e-04\n",
      "Name: 322, dtype: float64\n"
     ]
    },
    {
     "data": {
      "image/png": "[encoded data removed]",
      "text/plain": [
       "<Figure size 640x480 with 1 Axes>"
      ]
     },
     "metadata": {},
     "output_type": "display_data"
    },
    {
     "data": {
      "text/plain": [
       "6.40040385222885e-13"
      ]
     },
     "execution_count": 36,
     "metadata": {},
     "output_type": "execute_result"
    }
   ],
   "source": [
    "optimal_threshold(y_train, y_pred_proba)"
   ]
  },
  {
   "cell_type": "markdown",
   "id": "cd02eec5",
   "metadata": {},
   "source": [
    "### Testing GNB Classifier"
   ]
  },
  {
   "cell_type": "code",
   "execution_count": 37,
   "id": "51bb86ee",
   "metadata": {},
   "outputs": [],
   "source": [
    "y_pred_proba = gnb_classifier.predict_proba(X_test_scaled)[:, 1]"
   ]
  },
  {
   "cell_type": "code",
   "execution_count": 38,
   "id": "e9497d14",
   "metadata": {},
   "outputs": [
    {
     "data": {
      "text/plain": [
       "array([0, 0, 0, ..., 0, 0, 0])"
      ]
     },
     "execution_count": 38,
     "metadata": {},
     "output_type": "execute_result"
    }
   ],
   "source": [
    "y_pred = np.where(y_pred_proba>6.40040385222885e-13, 1, 0)\n",
    "y_pred"
   ]
  },
  {
   "cell_type": "code",
   "execution_count": 39,
   "id": "5b58195d",
   "metadata": {},
   "outputs": [
    {
     "name": "stdout",
     "output_type": "stream",
     "text": [
      "              precision    recall  f1-score   support\n",
      "\n",
      "           0       1.00      0.91      0.95     71079\n",
      "           1       0.02      0.91      0.03       123\n",
      "\n",
      "    accuracy                           0.91     71202\n",
      "   macro avg       0.51      0.91      0.49     71202\n",
      "weighted avg       1.00      0.91      0.95     71202\n",
      "\n"
     ]
    }
   ],
   "source": [
    "print(classification_report(y_true=y_test, y_pred=y_pred))"
   ]
  },
  {
   "cell_type": "code",
   "execution_count": 40,
   "id": "250f8b3b",
   "metadata": {},
   "outputs": [
    {
     "data": {
      "image/png": "[encoded data removed]",
      "text/plain": [
       "<Figure size 640x480 with 2 Axes>"
      ]
     },
     "metadata": {},
     "output_type": "display_data"
    }
   ],
   "source": [
    "labels = [0,1]\n",
    "cm = confusion_matrix(y_true=y_test, y_pred=y_pred, labels=labels)\n",
    "classes = ['Legal', 'Fraudulent']\n",
    "df_cm = pd.DataFrame(cm, index=classes, columns=classes)\n",
    "sns.heatmap(df_cm, annot=True, fmt='d', cmap='YlGnBu')\n",
    "plt.title('GNB Classifier', fontdict={'fontsize':14, 'weight': 'bold'})\n",
    "plt.xlabel('Predicted', fontdict={'fontsize':10, 'weight': 'bold'})\n",
    "plt.ylabel('Actual', fontdict={'fontsize':10, 'weight': 'bold'})\n",
    "plt.show()"
   ]
  },
  {
   "cell_type": "code",
   "execution_count": 41,
   "id": "12a7661a",
   "metadata": {},
   "outputs": [
    {
     "name": "stdout",
     "output_type": "stream",
     "text": [
      "The area under the ROC Curve for GNB classifier is 90.83 %\n"
     ]
    }
   ],
   "source": [
    "AUROC = roc_auc_score(y_test, y_pred)\n",
    "print(f'The area under the ROC Curve for GNB classifier is {AUROC * 100:.2f} %')"
   ]
  },
  {
   "cell_type": "markdown",
   "id": "db380596",
   "metadata": {},
   "source": [
    "## ANN Classification"
   ]
  },
  {
   "cell_type": "markdown",
   "id": "9c1c0c86",
   "metadata": {},
   "source": [
    "## Creating the Model"
   ]
  },
  {
   "cell_type": "code",
   "execution_count": 42,
   "id": "5abdd030",
   "metadata": {
    "scrolled": true
   },
   "outputs": [
    {
     "name": "stdout",
     "output_type": "stream",
     "text": [
      "WARNING:tensorflow:From C:\\Users\\m10sa\\anaconda3\\Lib\\site-packages\\keras\\src\\losses.py:2976: The name tf.losses.sparse_softmax_cross_entropy is deprecated. Please use tf.compat.v1.losses.sparse_softmax_cross_entropy instead.\n",
      "\n"
     ]
    }
   ],
   "source": [
    "from tensorflow.keras.models import Sequential\n",
    "from tensorflow.keras.layers import Dense"
   ]
  },
  {
   "cell_type": "code",
   "execution_count": 43,
   "id": "4820edd6",
   "metadata": {},
   "outputs": [
    {
     "data": {
      "text/plain": [
       "30"
      ]
     },
     "execution_count": 43,
     "metadata": {},
     "output_type": "execute_result"
    }
   ],
   "source": [
    "len(X_train.columns)"
   ]
  },
  {
   "cell_type": "code",
   "execution_count": 44,
   "id": "e048a12a",
   "metadata": {},
   "outputs": [
    {
     "data": {
      "text/plain": [
       "(213605, 30)"
      ]
     },
     "execution_count": 44,
     "metadata": {},
     "output_type": "execute_result"
    }
   ],
   "source": [
    "X_train.shape"
   ]
  },
  {
   "cell_type": "code",
   "execution_count": 47,
   "id": "c5538b7c",
   "metadata": {},
   "outputs": [],
   "source": [
    "model = Sequential()\n",
    "model.add(Dense(30, input_shape=(30,) , activation='relu'))\n",
    "model.add(Dense(15, activation='relu'))\n",
    "model.add(Dense(7, activation='relu'))\n",
    "model.add(Dense(1, activation='sigmoid'))\n",
    "\n",
    "model.compile(loss='binary_crossentropy', optimizer='adam', metrics=['accuracy'])   "
   ]
  },
  {
   "cell_type": "code",
   "execution_count": 48,
   "id": "c192b8e4",
   "metadata": {},
   "outputs": [
    {
     "name": "stdout",
     "output_type": "stream",
     "text": [
      "Model: \"sequential_1\"\n",
      "_________________________________________________________________\n",
      " Layer (type)                Output Shape              Param #   \n",
      "=================================================================\n",
      " dense_4 (Dense)             (None, 30)                930       \n",
      "                                                                 \n",
      " dense_5 (Dense)             (None, 15)                465       \n",
      "                                                                 \n",
      " dense_6 (Dense)             (None, 7)                 112       \n",
      "                                                                 \n",
      " dense_7 (Dense)             (None, 1)                 8         \n",
      "                                                                 \n",
      "=================================================================\n",
      "Total params: 1515 (5.92 KB)\n",
      "Trainable params: 1515 (5.92 KB)\n",
      "Non-trainable params: 0 (0.00 Byte)\n",
      "_________________________________________________________________\n"
     ]
    }
   ],
   "source": [
    "model.summary()"
   ]
  },
  {
   "cell_type": "markdown",
   "id": "697d1454",
   "metadata": {},
   "source": [
    "### Handle Imbalanced Data"
   ]
  },
  {
   "cell_type": "code",
   "execution_count": 49,
   "id": "f3c8de02",
   "metadata": {
    "scrolled": true
   },
   "outputs": [
    {
     "data": {
      "text/plain": [
       "Class\n",
       "0    213236\n",
       "1       369\n",
       "Name: count, dtype: int64"
      ]
     },
     "execution_count": 49,
     "metadata": {},
     "output_type": "execute_result"
    }
   ],
   "source": [
    "y_train.value_counts()    "
   ]
  },
  {
   "cell_type": "code",
   "execution_count": 50,
   "id": "ab63ecf8",
   "metadata": {},
   "outputs": [
    {
     "data": {
      "text/plain": [
       "577.88"
      ]
     },
     "execution_count": 50,
     "metadata": {},
     "output_type": "execute_result"
    }
   ],
   "source": [
    "weight_for_1 = np.round(len(y_train[y_train==0])/len(y_train[y_train==1]), 2)\n",
    "weight_for_1"
   ]
  },
  {
   "cell_type": "code",
   "execution_count": 51,
   "id": "cd8f5e38",
   "metadata": {},
   "outputs": [],
   "source": [
    "class_weight = {0: 1, 1: weight_for_1}"
   ]
  },
  {
   "cell_type": "code",
   "execution_count": 52,
   "id": "f91850cd",
   "metadata": {
    "scrolled": true
   },
   "outputs": [
    {
     "name": "stdout",
     "output_type": "stream",
     "text": [
      "Epoch 1/50\n",
      "WARNING:tensorflow:From C:\\Users\\m10sa\\anaconda3\\Lib\\site-packages\\keras\\src\\utils\\tf_utils.py:492: The name tf.ragged.RaggedTensorValue is deprecated. Please use tf.compat.v1.ragged.RaggedTensorValue instead.\n",
      "\n",
      "WARNING:tensorflow:From C:\\Users\\m10sa\\anaconda3\\Lib\\site-packages\\keras\\src\\engine\\base_layer_utils.py:384: The name tf.executing_eagerly_outside_functions is deprecated. Please use tf.compat.v1.executing_eagerly_outside_functions instead.\n",
      "\n",
      "209/209 [==============================] - 2s 4ms/step - loss: 0.0649 - accuracy: 0.9983 - val_loss: 0.0118 - val_accuracy: 0.9983\n",
      "Epoch 2/50\n",
      "209/209 [==============================] - 1s 3ms/step - loss: 0.0115 - accuracy: 0.9983 - val_loss: 0.0107 - val_accuracy: 0.9983\n",
      "Epoch 3/50\n",
      "209/209 [==============================] - 1s 2ms/step - loss: 0.0095 - accuracy: 0.9983 - val_loss: 0.0077 - val_accuracy: 0.9986\n",
      "Epoch 4/50\n",
      "209/209 [==============================] - 1s 2ms/step - loss: 0.0065 - accuracy: 0.9986 - val_loss: 0.0053 - val_accuracy: 0.9988\n",
      "Epoch 5/50\n",
      "209/209 [==============================] - 1s 2ms/step - loss: 0.0049 - accuracy: 0.9989 - val_loss: 0.0045 - val_accuracy: 0.9990\n",
      "Epoch 6/50\n",
      "209/209 [==============================] - 0s 2ms/step - loss: 0.0043 - accuracy: 0.9991 - val_loss: 0.0040 - val_accuracy: 0.9991\n",
      "Epoch 7/50\n",
      "209/209 [==============================] - 0s 2ms/step - loss: 0.0040 - accuracy: 0.9992 - val_loss: 0.0040 - val_accuracy: 0.9993\n",
      "Epoch 8/50\n",
      "209/209 [==============================] - 0s 2ms/step - loss: 0.0038 - accuracy: 0.9993 - val_loss: 0.0039 - val_accuracy: 0.9992\n",
      "Epoch 9/50\n",
      "209/209 [==============================] - 0s 2ms/step - loss: 0.0037 - accuracy: 0.9993 - val_loss: 0.0038 - val_accuracy: 0.9994\n",
      "Epoch 10/50\n",
      "209/209 [==============================] - 0s 2ms/step - loss: 0.0036 - accuracy: 0.9993 - val_loss: 0.0035 - val_accuracy: 0.9994\n",
      "Epoch 11/50\n",
      "209/209 [==============================] - 0s 2ms/step - loss: 0.0035 - accuracy: 0.9993 - val_loss: 0.0040 - val_accuracy: 0.9992\n",
      "Epoch 12/50\n",
      "209/209 [==============================] - 0s 2ms/step - loss: 0.0035 - accuracy: 0.9993 - val_loss: 0.0035 - val_accuracy: 0.9994\n",
      "Epoch 13/50\n",
      "209/209 [==============================] - 0s 2ms/step - loss: 0.0034 - accuracy: 0.9994 - val_loss: 0.0039 - val_accuracy: 0.9992\n",
      "Epoch 14/50\n",
      "209/209 [==============================] - 0s 2ms/step - loss: 0.0034 - accuracy: 0.9993 - val_loss: 0.0034 - val_accuracy: 0.9994\n",
      "Epoch 15/50\n",
      "209/209 [==============================] - 0s 2ms/step - loss: 0.0033 - accuracy: 0.9993 - val_loss: 0.0033 - val_accuracy: 0.9994\n",
      "Epoch 16/50\n",
      "209/209 [==============================] - 0s 2ms/step - loss: 0.0034 - accuracy: 0.9994 - val_loss: 0.0033 - val_accuracy: 0.9994\n",
      "Epoch 17/50\n",
      "209/209 [==============================] - 0s 2ms/step - loss: 0.0032 - accuracy: 0.9994 - val_loss: 0.0034 - val_accuracy: 0.9994\n",
      "Epoch 18/50\n",
      "209/209 [==============================] - 0s 2ms/step - loss: 0.0033 - accuracy: 0.9994 - val_loss: 0.0035 - val_accuracy: 0.9993\n",
      "Epoch 19/50\n",
      "209/209 [==============================] - 0s 2ms/step - loss: 0.0033 - accuracy: 0.9994 - val_loss: 0.0034 - val_accuracy: 0.9994\n",
      "Epoch 20/50\n",
      "209/209 [==============================] - 0s 2ms/step - loss: 0.0033 - accuracy: 0.9994 - val_loss: 0.0036 - val_accuracy: 0.9993\n",
      "Epoch 21/50\n",
      "209/209 [==============================] - 0s 2ms/step - loss: 0.0032 - accuracy: 0.9994 - val_loss: 0.0033 - val_accuracy: 0.9993\n",
      "Epoch 22/50\n",
      "209/209 [==============================] - 0s 2ms/step - loss: 0.0034 - accuracy: 0.9993 - val_loss: 0.0033 - val_accuracy: 0.9994\n",
      "Epoch 23/50\n",
      "209/209 [==============================] - 0s 2ms/step - loss: 0.0033 - accuracy: 0.9994 - val_loss: 0.0034 - val_accuracy: 0.9993\n",
      "Epoch 24/50\n",
      "209/209 [==============================] - 0s 2ms/step - loss: 0.0032 - accuracy: 0.9994 - val_loss: 0.0033 - val_accuracy: 0.9994\n",
      "Epoch 25/50\n",
      "209/209 [==============================] - 0s 2ms/step - loss: 0.0033 - accuracy: 0.9994 - val_loss: 0.0034 - val_accuracy: 0.9994\n",
      "Epoch 26/50\n",
      "209/209 [==============================] - 0s 2ms/step - loss: 0.0032 - accuracy: 0.9994 - val_loss: 0.0033 - val_accuracy: 0.9994\n",
      "Epoch 27/50\n",
      "209/209 [==============================] - 0s 2ms/step - loss: 0.0032 - accuracy: 0.9994 - val_loss: 0.0039 - val_accuracy: 0.9993\n",
      "Epoch 28/50\n",
      "209/209 [==============================] - 0s 2ms/step - loss: 0.0032 - accuracy: 0.9994 - val_loss: 0.0033 - val_accuracy: 0.9994\n",
      "Epoch 29/50\n",
      "209/209 [==============================] - 0s 2ms/step - loss: 0.0032 - accuracy: 0.9994 - val_loss: 0.0032 - val_accuracy: 0.9994\n",
      "Epoch 30/50\n",
      "209/209 [==============================] - 0s 2ms/step - loss: 0.0032 - accuracy: 0.9994 - val_loss: 0.0033 - val_accuracy: 0.9994\n",
      "Epoch 31/50\n",
      "209/209 [==============================] - 0s 2ms/step - loss: 0.0032 - accuracy: 0.9994 - val_loss: 0.0036 - val_accuracy: 0.9994\n",
      "Epoch 32/50\n",
      "209/209 [==============================] - 0s 2ms/step - loss: 0.0032 - accuracy: 0.9994 - val_loss: 0.0032 - val_accuracy: 0.9994\n",
      "Epoch 33/50\n",
      "209/209 [==============================] - 0s 2ms/step - loss: 0.0032 - accuracy: 0.9994 - val_loss: 0.0036 - val_accuracy: 0.9993\n",
      "Epoch 34/50\n",
      "209/209 [==============================] - 0s 2ms/step - loss: 0.0032 - accuracy: 0.9994 - val_loss: 0.0034 - val_accuracy: 0.9994\n",
      "Epoch 35/50\n",
      "209/209 [==============================] - 0s 2ms/step - loss: 0.0032 - accuracy: 0.9994 - val_loss: 0.0033 - val_accuracy: 0.9994\n",
      "Epoch 36/50\n",
      "209/209 [==============================] - 0s 2ms/step - loss: 0.0032 - accuracy: 0.9994 - val_loss: 0.0037 - val_accuracy: 0.9993\n",
      "Epoch 37/50\n",
      "209/209 [==============================] - 0s 2ms/step - loss: 0.0032 - accuracy: 0.9994 - val_loss: 0.0035 - val_accuracy: 0.9994\n",
      "Epoch 38/50\n",
      "209/209 [==============================] - 0s 2ms/step - loss: 0.0032 - accuracy: 0.9994 - val_loss: 0.0032 - val_accuracy: 0.9994\n",
      "Epoch 39/50\n",
      "209/209 [==============================] - 0s 2ms/step - loss: 0.0032 - accuracy: 0.9994 - val_loss: 0.0034 - val_accuracy: 0.9994\n",
      "Epoch 40/50\n",
      "209/209 [==============================] - 0s 2ms/step - loss: 0.0032 - accuracy: 0.9994 - val_loss: 0.0033 - val_accuracy: 0.9993\n",
      "Epoch 41/50\n",
      "209/209 [==============================] - 0s 2ms/step - loss: 0.0031 - accuracy: 0.9994 - val_loss: 0.0032 - val_accuracy: 0.9994\n",
      "Epoch 42/50\n",
      "209/209 [==============================] - 0s 2ms/step - loss: 0.0032 - accuracy: 0.9994 - val_loss: 0.0032 - val_accuracy: 0.9993\n",
      "Epoch 43/50\n",
      "209/209 [==============================] - 0s 2ms/step - loss: 0.0031 - accuracy: 0.9994 - val_loss: 0.0032 - val_accuracy: 0.9994\n",
      "Epoch 44/50\n",
      "209/209 [==============================] - 0s 2ms/step - loss: 0.0030 - accuracy: 0.9994 - val_loss: 0.0035 - val_accuracy: 0.9994\n",
      "Epoch 45/50\n",
      "209/209 [==============================] - 0s 2ms/step - loss: 0.0031 - accuracy: 0.9994 - val_loss: 0.0031 - val_accuracy: 0.9994\n",
      "Epoch 46/50\n",
      "209/209 [==============================] - 0s 2ms/step - loss: 0.0031 - accuracy: 0.9994 - val_loss: 0.0032 - val_accuracy: 0.9994\n",
      "Epoch 47/50\n",
      "209/209 [==============================] - 0s 2ms/step - loss: 0.0031 - accuracy: 0.9994 - val_loss: 0.0032 - val_accuracy: 0.9994\n",
      "Epoch 48/50\n",
      "209/209 [==============================] - 0s 2ms/step - loss: 0.0031 - accuracy: 0.9994 - val_loss: 0.0032 - val_accuracy: 0.9994\n",
      "Epoch 49/50\n",
      "209/209 [==============================] - 0s 2ms/step - loss: 0.0032 - accuracy: 0.9994 - val_loss: 0.0032 - val_accuracy: 0.9994\n",
      "Epoch 50/50\n",
      "209/209 [==============================] - 0s 2ms/step - loss: 0.0032 - accuracy: 0.9994 - val_loss: 0.0032 - val_accuracy: 0.9994\n"
     ]
    },
    {
     "data": {
      "text/plain": [
       "<keras.src.callbacks.History at 0x2a11927e710>"
      ]
     },
     "execution_count": 52,
     "metadata": {},
     "output_type": "execute_result"
    }
   ],
   "source": [
    "results = model.fit(X_train_scaled, y_train, batch_size=1024, epochs=50, verbose=1, validation_data=(X_test_scaled, y_test))\n",
    "results"
   ]
  },
  {
   "cell_type": "code",
   "execution_count": 53,
   "id": "64b97352",
   "metadata": {
    "scrolled": true
   },
   "outputs": [
    {
     "data": {
      "text/html": [
       "<div>\n",
       "<style scoped>\n",
       "    .dataframe tbody tr th:only-of-type {\n",
       "        vertical-align: middle;\n",
       "    }\n",
       "\n",
       "    .dataframe tbody tr th {\n",
       "        vertical-align: top;\n",
       "    }\n",
       "\n",
       "    .dataframe thead th {\n",
       "        text-align: right;\n",
       "    }\n",
       "</style>\n",
       "<table border=\"1\" class=\"dataframe\">\n",
       "  <thead>\n",
       "    <tr style=\"text-align: right;\">\n",
       "      <th></th>\n",
       "      <th>loss</th>\n",
       "      <th>accuracy</th>\n",
       "      <th>val_loss</th>\n",
       "      <th>val_accuracy</th>\n",
       "    </tr>\n",
       "  </thead>\n",
       "  <tbody>\n",
       "    <tr>\n",
       "      <th>0</th>\n",
       "      <td>0.064946</td>\n",
       "      <td>0.998273</td>\n",
       "      <td>0.011813</td>\n",
       "      <td>0.998273</td>\n",
       "    </tr>\n",
       "    <tr>\n",
       "      <th>1</th>\n",
       "      <td>0.011525</td>\n",
       "      <td>0.998273</td>\n",
       "      <td>0.010710</td>\n",
       "      <td>0.998273</td>\n",
       "    </tr>\n",
       "    <tr>\n",
       "      <th>2</th>\n",
       "      <td>0.009535</td>\n",
       "      <td>0.998273</td>\n",
       "      <td>0.007664</td>\n",
       "      <td>0.998567</td>\n",
       "    </tr>\n",
       "    <tr>\n",
       "      <th>3</th>\n",
       "      <td>0.006519</td>\n",
       "      <td>0.998577</td>\n",
       "      <td>0.005293</td>\n",
       "      <td>0.998834</td>\n",
       "    </tr>\n",
       "    <tr>\n",
       "      <th>4</th>\n",
       "      <td>0.004886</td>\n",
       "      <td>0.998942</td>\n",
       "      <td>0.004520</td>\n",
       "      <td>0.999031</td>\n",
       "    </tr>\n",
       "    <tr>\n",
       "      <th>5</th>\n",
       "      <td>0.004272</td>\n",
       "      <td>0.999134</td>\n",
       "      <td>0.004038</td>\n",
       "      <td>0.999129</td>\n",
       "    </tr>\n",
       "    <tr>\n",
       "      <th>6</th>\n",
       "      <td>0.003986</td>\n",
       "      <td>0.999204</td>\n",
       "      <td>0.003968</td>\n",
       "      <td>0.999298</td>\n",
       "    </tr>\n",
       "    <tr>\n",
       "      <th>7</th>\n",
       "      <td>0.003801</td>\n",
       "      <td>0.999270</td>\n",
       "      <td>0.003926</td>\n",
       "      <td>0.999185</td>\n",
       "    </tr>\n",
       "    <tr>\n",
       "      <th>8</th>\n",
       "      <td>0.003708</td>\n",
       "      <td>0.999284</td>\n",
       "      <td>0.003782</td>\n",
       "      <td>0.999354</td>\n",
       "    </tr>\n",
       "    <tr>\n",
       "      <th>9</th>\n",
       "      <td>0.003571</td>\n",
       "      <td>0.999331</td>\n",
       "      <td>0.003542</td>\n",
       "      <td>0.999382</td>\n",
       "    </tr>\n",
       "    <tr>\n",
       "      <th>10</th>\n",
       "      <td>0.003492</td>\n",
       "      <td>0.999317</td>\n",
       "      <td>0.003970</td>\n",
       "      <td>0.999199</td>\n",
       "    </tr>\n",
       "    <tr>\n",
       "      <th>11</th>\n",
       "      <td>0.003460</td>\n",
       "      <td>0.999340</td>\n",
       "      <td>0.003468</td>\n",
       "      <td>0.999354</td>\n",
       "    </tr>\n",
       "    <tr>\n",
       "      <th>12</th>\n",
       "      <td>0.003355</td>\n",
       "      <td>0.999363</td>\n",
       "      <td>0.003875</td>\n",
       "      <td>0.999242</td>\n",
       "    </tr>\n",
       "    <tr>\n",
       "      <th>13</th>\n",
       "      <td>0.003392</td>\n",
       "      <td>0.999331</td>\n",
       "      <td>0.003357</td>\n",
       "      <td>0.999382</td>\n",
       "    </tr>\n",
       "    <tr>\n",
       "      <th>14</th>\n",
       "      <td>0.003307</td>\n",
       "      <td>0.999345</td>\n",
       "      <td>0.003331</td>\n",
       "      <td>0.999382</td>\n",
       "    </tr>\n",
       "    <tr>\n",
       "      <th>15</th>\n",
       "      <td>0.003350</td>\n",
       "      <td>0.999354</td>\n",
       "      <td>0.003320</td>\n",
       "      <td>0.999368</td>\n",
       "    </tr>\n",
       "    <tr>\n",
       "      <th>16</th>\n",
       "      <td>0.003245</td>\n",
       "      <td>0.999391</td>\n",
       "      <td>0.003412</td>\n",
       "      <td>0.999368</td>\n",
       "    </tr>\n",
       "    <tr>\n",
       "      <th>17</th>\n",
       "      <td>0.003301</td>\n",
       "      <td>0.999387</td>\n",
       "      <td>0.003462</td>\n",
       "      <td>0.999284</td>\n",
       "    </tr>\n",
       "    <tr>\n",
       "      <th>18</th>\n",
       "      <td>0.003283</td>\n",
       "      <td>0.999363</td>\n",
       "      <td>0.003360</td>\n",
       "      <td>0.999368</td>\n",
       "    </tr>\n",
       "    <tr>\n",
       "      <th>19</th>\n",
       "      <td>0.003270</td>\n",
       "      <td>0.999373</td>\n",
       "      <td>0.003558</td>\n",
       "      <td>0.999326</td>\n",
       "    </tr>\n",
       "    <tr>\n",
       "      <th>20</th>\n",
       "      <td>0.003232</td>\n",
       "      <td>0.999387</td>\n",
       "      <td>0.003301</td>\n",
       "      <td>0.999326</td>\n",
       "    </tr>\n",
       "    <tr>\n",
       "      <th>21</th>\n",
       "      <td>0.003414</td>\n",
       "      <td>0.999345</td>\n",
       "      <td>0.003340</td>\n",
       "      <td>0.999382</td>\n",
       "    </tr>\n",
       "    <tr>\n",
       "      <th>22</th>\n",
       "      <td>0.003264</td>\n",
       "      <td>0.999363</td>\n",
       "      <td>0.003360</td>\n",
       "      <td>0.999340</td>\n",
       "    </tr>\n",
       "    <tr>\n",
       "      <th>23</th>\n",
       "      <td>0.003241</td>\n",
       "      <td>0.999368</td>\n",
       "      <td>0.003316</td>\n",
       "      <td>0.999368</td>\n",
       "    </tr>\n",
       "    <tr>\n",
       "      <th>24</th>\n",
       "      <td>0.003272</td>\n",
       "      <td>0.999368</td>\n",
       "      <td>0.003393</td>\n",
       "      <td>0.999368</td>\n",
       "    </tr>\n",
       "    <tr>\n",
       "      <th>25</th>\n",
       "      <td>0.003204</td>\n",
       "      <td>0.999387</td>\n",
       "      <td>0.003255</td>\n",
       "      <td>0.999368</td>\n",
       "    </tr>\n",
       "    <tr>\n",
       "      <th>26</th>\n",
       "      <td>0.003249</td>\n",
       "      <td>0.999368</td>\n",
       "      <td>0.003897</td>\n",
       "      <td>0.999284</td>\n",
       "    </tr>\n",
       "    <tr>\n",
       "      <th>27</th>\n",
       "      <td>0.003184</td>\n",
       "      <td>0.999373</td>\n",
       "      <td>0.003256</td>\n",
       "      <td>0.999382</td>\n",
       "    </tr>\n",
       "    <tr>\n",
       "      <th>28</th>\n",
       "      <td>0.003195</td>\n",
       "      <td>0.999401</td>\n",
       "      <td>0.003231</td>\n",
       "      <td>0.999368</td>\n",
       "    </tr>\n",
       "    <tr>\n",
       "      <th>29</th>\n",
       "      <td>0.003213</td>\n",
       "      <td>0.999354</td>\n",
       "      <td>0.003251</td>\n",
       "      <td>0.999368</td>\n",
       "    </tr>\n",
       "    <tr>\n",
       "      <th>30</th>\n",
       "      <td>0.003212</td>\n",
       "      <td>0.999401</td>\n",
       "      <td>0.003560</td>\n",
       "      <td>0.999354</td>\n",
       "    </tr>\n",
       "    <tr>\n",
       "      <th>31</th>\n",
       "      <td>0.003210</td>\n",
       "      <td>0.999373</td>\n",
       "      <td>0.003206</td>\n",
       "      <td>0.999382</td>\n",
       "    </tr>\n",
       "    <tr>\n",
       "      <th>32</th>\n",
       "      <td>0.003191</td>\n",
       "      <td>0.999391</td>\n",
       "      <td>0.003640</td>\n",
       "      <td>0.999326</td>\n",
       "    </tr>\n",
       "    <tr>\n",
       "      <th>33</th>\n",
       "      <td>0.003178</td>\n",
       "      <td>0.999391</td>\n",
       "      <td>0.003393</td>\n",
       "      <td>0.999368</td>\n",
       "    </tr>\n",
       "    <tr>\n",
       "      <th>34</th>\n",
       "      <td>0.003197</td>\n",
       "      <td>0.999396</td>\n",
       "      <td>0.003313</td>\n",
       "      <td>0.999368</td>\n",
       "    </tr>\n",
       "    <tr>\n",
       "      <th>35</th>\n",
       "      <td>0.003193</td>\n",
       "      <td>0.999359</td>\n",
       "      <td>0.003684</td>\n",
       "      <td>0.999326</td>\n",
       "    </tr>\n",
       "    <tr>\n",
       "      <th>36</th>\n",
       "      <td>0.003157</td>\n",
       "      <td>0.999363</td>\n",
       "      <td>0.003474</td>\n",
       "      <td>0.999368</td>\n",
       "    </tr>\n",
       "    <tr>\n",
       "      <th>37</th>\n",
       "      <td>0.003200</td>\n",
       "      <td>0.999368</td>\n",
       "      <td>0.003222</td>\n",
       "      <td>0.999368</td>\n",
       "    </tr>\n",
       "    <tr>\n",
       "      <th>38</th>\n",
       "      <td>0.003207</td>\n",
       "      <td>0.999377</td>\n",
       "      <td>0.003401</td>\n",
       "      <td>0.999382</td>\n",
       "    </tr>\n",
       "    <tr>\n",
       "      <th>39</th>\n",
       "      <td>0.003168</td>\n",
       "      <td>0.999391</td>\n",
       "      <td>0.003250</td>\n",
       "      <td>0.999326</td>\n",
       "    </tr>\n",
       "    <tr>\n",
       "      <th>40</th>\n",
       "      <td>0.003136</td>\n",
       "      <td>0.999373</td>\n",
       "      <td>0.003166</td>\n",
       "      <td>0.999396</td>\n",
       "    </tr>\n",
       "    <tr>\n",
       "      <th>41</th>\n",
       "      <td>0.003168</td>\n",
       "      <td>0.999391</td>\n",
       "      <td>0.003200</td>\n",
       "      <td>0.999340</td>\n",
       "    </tr>\n",
       "    <tr>\n",
       "      <th>42</th>\n",
       "      <td>0.003144</td>\n",
       "      <td>0.999401</td>\n",
       "      <td>0.003198</td>\n",
       "      <td>0.999368</td>\n",
       "    </tr>\n",
       "    <tr>\n",
       "      <th>43</th>\n",
       "      <td>0.003039</td>\n",
       "      <td>0.999396</td>\n",
       "      <td>0.003537</td>\n",
       "      <td>0.999354</td>\n",
       "    </tr>\n",
       "    <tr>\n",
       "      <th>44</th>\n",
       "      <td>0.003097</td>\n",
       "      <td>0.999410</td>\n",
       "      <td>0.003134</td>\n",
       "      <td>0.999396</td>\n",
       "    </tr>\n",
       "    <tr>\n",
       "      <th>45</th>\n",
       "      <td>0.003137</td>\n",
       "      <td>0.999382</td>\n",
       "      <td>0.003189</td>\n",
       "      <td>0.999368</td>\n",
       "    </tr>\n",
       "    <tr>\n",
       "      <th>46</th>\n",
       "      <td>0.003124</td>\n",
       "      <td>0.999373</td>\n",
       "      <td>0.003162</td>\n",
       "      <td>0.999382</td>\n",
       "    </tr>\n",
       "    <tr>\n",
       "      <th>47</th>\n",
       "      <td>0.003083</td>\n",
       "      <td>0.999401</td>\n",
       "      <td>0.003244</td>\n",
       "      <td>0.999424</td>\n",
       "    </tr>\n",
       "    <tr>\n",
       "      <th>48</th>\n",
       "      <td>0.003166</td>\n",
       "      <td>0.999396</td>\n",
       "      <td>0.003151</td>\n",
       "      <td>0.999368</td>\n",
       "    </tr>\n",
       "    <tr>\n",
       "      <th>49</th>\n",
       "      <td>0.003198</td>\n",
       "      <td>0.999382</td>\n",
       "      <td>0.003189</td>\n",
       "      <td>0.999396</td>\n",
       "    </tr>\n",
       "  </tbody>\n",
       "</table>\n",
       "</div>"
      ],
      "text/plain": [
       "        loss  accuracy  val_loss  val_accuracy\n",
       "0   0.064946  0.998273  0.011813      0.998273\n",
       "1   0.011525  0.998273  0.010710      0.998273\n",
       "2   0.009535  0.998273  0.007664      0.998567\n",
       "3   0.006519  0.998577  0.005293      0.998834\n",
       "4   0.004886  0.998942  0.004520      0.999031\n",
       "5   0.004272  0.999134  0.004038      0.999129\n",
       "6   0.003986  0.999204  0.003968      0.999298\n",
       "7   0.003801  0.999270  0.003926      0.999185\n",
       "8   0.003708  0.999284  0.003782      0.999354\n",
       "9   0.003571  0.999331  0.003542      0.999382\n",
       "10  0.003492  0.999317  0.003970      0.999199\n",
       "11  0.003460  0.999340  0.003468      0.999354\n",
       "12  0.003355  0.999363  0.003875      0.999242\n",
       "13  0.003392  0.999331  0.003357      0.999382\n",
       "14  0.003307  0.999345  0.003331      0.999382\n",
       "15  0.003350  0.999354  0.003320      0.999368\n",
       "16  0.003245  0.999391  0.003412      0.999368\n",
       "17  0.003301  0.999387  0.003462      0.999284\n",
       "18  0.003283  0.999363  0.003360      0.999368\n",
       "19  0.003270  0.999373  0.003558      0.999326\n",
       "20  0.003232  0.999387  0.003301      0.999326\n",
       "21  0.003414  0.999345  0.003340      0.999382\n",
       "22  0.003264  0.999363  0.003360      0.999340\n",
       "23  0.003241  0.999368  0.003316      0.999368\n",
       "24  0.003272  0.999368  0.003393      0.999368\n",
       "25  0.003204  0.999387  0.003255      0.999368\n",
       "26  0.003249  0.999368  0.003897      0.999284\n",
       "27  0.003184  0.999373  0.003256      0.999382\n",
       "28  0.003195  0.999401  0.003231      0.999368\n",
       "29  0.003213  0.999354  0.003251      0.999368\n",
       "30  0.003212  0.999401  0.003560      0.999354\n",
       "31  0.003210  0.999373  0.003206      0.999382\n",
       "32  0.003191  0.999391  0.003640      0.999326\n",
       "33  0.003178  0.999391  0.003393      0.999368\n",
       "34  0.003197  0.999396  0.003313      0.999368\n",
       "35  0.003193  0.999359  0.003684      0.999326\n",
       "36  0.003157  0.999363  0.003474      0.999368\n",
       "37  0.003200  0.999368  0.003222      0.999368\n",
       "38  0.003207  0.999377  0.003401      0.999382\n",
       "39  0.003168  0.999391  0.003250      0.999326\n",
       "40  0.003136  0.999373  0.003166      0.999396\n",
       "41  0.003168  0.999391  0.003200      0.999340\n",
       "42  0.003144  0.999401  0.003198      0.999368\n",
       "43  0.003039  0.999396  0.003537      0.999354\n",
       "44  0.003097  0.999410  0.003134      0.999396\n",
       "45  0.003137  0.999382  0.003189      0.999368\n",
       "46  0.003124  0.999373  0.003162      0.999382\n",
       "47  0.003083  0.999401  0.003244      0.999424\n",
       "48  0.003166  0.999396  0.003151      0.999368\n",
       "49  0.003198  0.999382  0.003189      0.999396"
      ]
     },
     "execution_count": 53,
     "metadata": {},
     "output_type": "execute_result"
    }
   ],
   "source": [
    "metrics = pd.DataFrame(model.history.history)\n",
    "metrics"
   ]
  },
  {
   "cell_type": "code",
   "execution_count": 54,
   "id": "3e134495",
   "metadata": {
    "scrolled": true
   },
   "outputs": [
    {
     "name": "stdout",
     "output_type": "stream",
     "text": [
      "2226/2226 [==============================] - 2s 1ms/step - loss: 0.0032 - accuracy: 0.9994\n"
     ]
    },
    {
     "data": {
      "text/plain": [
       "[0.0031894356943666935, 0.9993960857391357]"
      ]
     },
     "execution_count": 54,
     "metadata": {},
     "output_type": "execute_result"
    }
   ],
   "source": [
    "model.evaluate(X_test_scaled, y_test)"
   ]
  },
  {
   "cell_type": "code",
   "execution_count": 55,
   "id": "f9fb3349",
   "metadata": {
    "scrolled": false
   },
   "outputs": [
    {
     "data": {
      "image/png": "[encoded data removed]",
      "text/plain": [
       "<Figure size 640x480 with 1 Axes>"
      ]
     },
     "metadata": {},
     "output_type": "display_data"
    }
   ],
   "source": [
    "metrics.loc[2:,['loss','val_loss']].plot();"
   ]
  },
  {
   "cell_type": "code",
   "execution_count": 56,
   "id": "c17c764f",
   "metadata": {},
   "outputs": [
    {
     "name": "stdout",
     "output_type": "stream",
     "text": [
      "6676/6676 [==============================] - 6s 918us/step\n"
     ]
    }
   ],
   "source": [
    "y_train_proba = model.predict(X_train_scaled)"
   ]
  },
  {
   "cell_type": "code",
   "execution_count": 57,
   "id": "447ff5c4",
   "metadata": {
    "scrolled": false
   },
   "outputs": [
    {
     "name": "stdout",
     "output_type": "stream",
     "text": [
      "threshold    0.000371\n",
      "tpr          0.926829\n",
      "tnr          0.926715\n",
      "tpr-tnr      0.000114\n",
      "Name: 324, dtype: float64\n"
     ]
    },
    {
     "data": {
      "image/png": "[encoded data removed]",
      "text/plain": [
       "<Figure size 640x480 with 1 Axes>"
      ]
     },
     "metadata": {},
     "output_type": "display_data"
    },
    {
     "data": {
      "text/plain": [
       "0.0003714534395840019"
      ]
     },
     "execution_count": 57,
     "metadata": {},
     "output_type": "execute_result"
    }
   ],
   "source": [
    "optimal_threshold(y_train, y_train_proba)"
   ]
  },
  {
   "cell_type": "markdown",
   "id": "42c19c29",
   "metadata": {},
   "source": [
    "### Testing ANN Classifier "
   ]
  },
  {
   "cell_type": "code",
   "execution_count": 58,
   "id": "b58c6f7b",
   "metadata": {},
   "outputs": [
    {
     "name": "stdout",
     "output_type": "stream",
     "text": [
      "2226/2226 [==============================] - 2s 965us/step\n"
     ]
    }
   ],
   "source": [
    "y_test_proba = model.predict(X_test_scaled)"
   ]
  },
  {
   "cell_type": "code",
   "execution_count": 59,
   "id": "1efa404f",
   "metadata": {},
   "outputs": [
    {
     "data": {
      "text/plain": [
       "array([[0],\n",
       "       [0],\n",
       "       [0],\n",
       "       ...,\n",
       "       [0],\n",
       "       [1],\n",
       "       [0]])"
      ]
     },
     "execution_count": 59,
     "metadata": {},
     "output_type": "execute_result"
    }
   ],
   "source": [
    "y_pred = np.where(y_test_proba>0.00037, 1, 0)\n",
    "y_pred"
   ]
  },
  {
   "cell_type": "code",
   "execution_count": 60,
   "id": "a494c4be",
   "metadata": {},
   "outputs": [
    {
     "name": "stdout",
     "output_type": "stream",
     "text": [
      "              precision    recall  f1-score   support\n",
      "\n",
      "           0       1.00      0.93      0.96     71079\n",
      "           1       0.02      0.95      0.04       123\n",
      "\n",
      "    accuracy                           0.93     71202\n",
      "   macro avg       0.51      0.94      0.50     71202\n",
      "weighted avg       1.00      0.93      0.96     71202\n",
      "\n"
     ]
    }
   ],
   "source": [
    "print(classification_report(y_true=y_test, y_pred=y_pred))"
   ]
  },
  {
   "cell_type": "code",
   "execution_count": 61,
   "id": "dd46a895",
   "metadata": {
    "scrolled": false
   },
   "outputs": [
    {
     "data": {
      "image/png": "[encoded data removed]",
      "text/plain": [
       "<Figure size 640x480 with 2 Axes>"
      ]
     },
     "metadata": {},
     "output_type": "display_data"
    }
   ],
   "source": [
    "labels = [0,1]\n",
    "cm = confusion_matrix(y_true=y_test, y_pred=y_pred, labels=labels)\n",
    "classes = ['Legal', 'Fraudulent']\n",
    "df_cm = pd.DataFrame(cm, index=classes, columns=classes)\n",
    "sns.heatmap(df_cm, annot=True, fmt='d', cmap='YlGnBu')\n",
    "plt.title('ANN Classifier', fontdict={'fontsize':14, 'weight': 'bold'})\n",
    "plt.xlabel('Predicted', fontdict={'fontsize':10, 'weight': 'bold'})\n",
    "plt.ylabel('Actual', fontdict={'fontsize':10, 'weight': 'bold'})\n",
    "plt.show()"
   ]
  },
  {
   "cell_type": "code",
   "execution_count": 62,
   "id": "2d5d8de7",
   "metadata": {},
   "outputs": [
    {
     "name": "stdout",
     "output_type": "stream",
     "text": [
      "The area under the ROC Curve for ANN classifier is 93.85 %\n"
     ]
    }
   ],
   "source": [
    "AUROC = roc_auc_score(y_test, y_pred)\n",
    "print(f'The area under the ROC Curve for ANN classifier is {AUROC * 100:.2f} %')"
   ]
  },
  {
   "cell_type": "code",
   "execution_count": 63,
   "id": "9d3b8782",
   "metadata": {
    "scrolled": false
   },
   "outputs": [
    {
     "data": {
      "text/plain": [
       "4.878048780487805"
      ]
     },
     "execution_count": 63,
     "metadata": {},
     "output_type": "execute_result"
    }
   ],
   "source": [
    "mis_f = 100 * cm[1,0]/cm[1].sum()\n",
    "mis_f"
   ]
  },
  {
   "cell_type": "code",
   "execution_count": 66,
   "id": "f57506cb",
   "metadata": {
    "scrolled": true
   },
   "outputs": [
    {
     "name": "stdout",
     "output_type": "stream",
     "text": [
      "Percentage of mislabeled fraudulent transactions is : 4.9 \n"
     ]
    }
   ],
   "source": [
    "print(\"Percentage of mislabeled fraudulent transactions is : %.1f \" % mis_f )"
   ]
  },
  {
   "cell_type": "code",
   "execution_count": 65,
   "id": "b554240d",
   "metadata": {},
   "outputs": [],
   "source": [
    "model.save('fraud_detector_model.h5')"
   ]
  }
 ],
 "metadata": {
  "kernelspec": {
   "display_name": "Python 3 (ipykernel)",
   "language": "python",
   "name": "python3"
  },
  "language_info": {
   "codemirror_mode": {
    "name": "ipython",
    "version": 3
   },
   "file_extension": ".py",
   "mimetype": "text/x-python",
   "name": "python",
   "nbconvert_exporter": "python",
   "pygments_lexer": "ipython3",
   "version": "3.11.5"
  }
 },
 "nbformat": 4,
 "nbformat_minor": 5
}
